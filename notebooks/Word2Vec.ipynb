{
 "cells": [
  {
   "cell_type": "code",
   "execution_count": 77,
   "metadata": {},
   "outputs": [],
   "source": [
    "import gensim\n",
    "import pandas as pd\n",
    "import nltk\n",
    "import numpy as np\n",
    "import logging\n",
    "from copy import deepcopy\n",
    "from gensim.corpora import Dictionary\n",
    "from gensim.models import Word2Vec, Doc2Vec, FastText, KeyedVectors\n",
    "from gensim.models.doc2vec import TaggedDocument\n",
    "from tqdm._tqdm_notebook import tqdm\n",
    "from pathlib import Path\n",
    "\n",
    "tqdm.pandas()\n",
    "# logging.basicConfig(format='%(asctime)s : %(levelname)s : %(message)s', level=logging.ERROR)"
   ]
  },
  {
   "cell_type": "code",
   "execution_count": 2,
   "metadata": {},
   "outputs": [],
   "source": [
    "import qiqc\n",
    "import qiqc.datasets as QD\n",
    "import qiqc.embeddings as QE\n",
    "import qiqc.preprocessors as QP\n",
    "import qiqc.models as QM"
   ]
  },
  {
   "cell_type": "markdown",
   "metadata": {},
   "source": [
    "## Preprocessor definition"
   ]
  },
  {
   "cell_type": "code",
   "execution_count": 3,
   "metadata": {},
   "outputs": [],
   "source": [
    "config = {\n",
    "    'n_rows': None,\n",
    "    'maxlen': 72,\n",
    "    'embedding': {\n",
    "        'src': ['glove', 'paragram']\n",
    "    },\n",
    "    'vocab': {\n",
    "        'min_count': 5\n",
    "    }\n",
    "}\n",
    "preprocessor = qiqc.builder.build_preprocessor([\n",
    "    'lower',\n",
    "    'misspell',\n",
    "    'punct',\n",
    "    'number+underscore',\n",
    "])\n",
    "tokenizer = qiqc.builder.build_tokenizer(\n",
    "    'space'\n",
    ")"
   ]
  },
  {
   "cell_type": "markdown",
   "metadata": {},
   "source": [
    "## Setup & preprocess"
   ]
  },
  {
   "cell_type": "code",
   "execution_count": 4,
   "metadata": {},
   "outputs": [
    {
     "name": "stdout",
     "output_type": "stream",
     "text": [
      "CPU times: user 6.21 s, sys: 560 ms, total: 6.77 s\n",
      "Wall time: 6.36 s\n"
     ]
    }
   ],
   "source": [
    "%%time\n",
    "# Load dataset\n",
    "train_df, submit_df = QD.load_qiqc(n_rows=config['n_rows'])"
   ]
  },
  {
   "cell_type": "code",
   "execution_count": 5,
   "metadata": {},
   "outputs": [
    {
     "name": "stderr",
     "output_type": "stream",
     "text": [
      "100%|██████████| 1306122/1306122 [01:30<00:00, 14368.97it/s]\n",
      "100%|██████████| 56370/56370 [00:03<00:00, 14531.70it/s]\n"
     ]
    },
    {
     "name": "stdout",
     "output_type": "stream",
     "text": [
      "CPU times: user 1min 34s, sys: 1.76 s, total: 1min 36s\n",
      "Wall time: 1min 35s\n"
     ]
    }
   ],
   "source": [
    "%%time\n",
    "train_df['tokens'] = train_df.question_text.progress_apply(\n",
    "    lambda x: tokenizer(preprocessor(x)))\n",
    "submit_df['tokens'] = submit_df.question_text.progress_apply(\n",
    "    lambda x: tokenizer(preprocessor(x)))\n",
    "all_df = pd.concat([train_df, submit_df], ignore_index=True, sort=False)"
   ]
  },
  {
   "cell_type": "markdown",
   "metadata": {},
   "source": [
    "## Build vocabulary"
   ]
  },
  {
   "cell_type": "code",
   "execution_count": 6,
   "metadata": {},
   "outputs": [
    {
     "name": "stdout",
     "output_type": "stream",
     "text": [
      "Build vocabulary...\n",
      "CPU times: user 30.7 s, sys: 20 ms, total: 30.8 s\n",
      "Wall time: 30.8 s\n"
     ]
    }
   ],
   "source": [
    "%%time\n",
    "print('Build vocabulary...')\n",
    "vocab = Dictionary(all_df.tokens.values, prune_at=None)\n",
    "dfs = sorted(vocab.dfs.items(), key=lambda x: x[1], reverse=True)\n",
    "token2id = dict(\n",
    "    **{'<PAD>': 0},\n",
    "    **dict([(vocab[idx], i + 1) for i, (idx, freq) in enumerate(dfs)]))\n",
    "word_freq = dict(\n",
    "    **{'<PAD>': 1},\n",
    "    **dict([(vocab[idx], freq) for idx, freq in dfs]))\n",
    "assert token2id['<PAD>'] == 0"
   ]
  },
  {
   "cell_type": "code",
   "execution_count": 7,
   "metadata": {},
   "outputs": [
    {
     "name": "stderr",
     "output_type": "stream",
     "text": [
      "100%|██████████| 1306122/1306122 [00:24<00:00, 52682.03it/s]\n",
      "100%|██████████| 56370/56370 [00:01<00:00, 45794.43it/s]\n"
     ]
    },
    {
     "name": "stdout",
     "output_type": "stream",
     "text": [
      "CPU times: user 26.8 s, sys: 1.11 s, total: 27.9 s\n",
      "Wall time: 27.2 s\n"
     ]
    }
   ],
   "source": [
    "%%time\n",
    "train_df['token_ids'] = train_df.tokens.progress_apply(\n",
    "    lambda xs: qiqc.utils.pad_sequence([token2id[x] for x in xs], config['maxlen']))\n",
    "submit_df['token_ids'] = submit_df.tokens.progress_apply(\n",
    "    lambda xs: qiqc.utils.pad_sequence([token2id[x] for x in xs], config['maxlen']))\n",
    "all_df = pd.concat([train_df, submit_df], ignore_index=True, sort=False)"
   ]
  },
  {
   "cell_type": "code",
   "execution_count": 8,
   "metadata": {},
   "outputs": [
    {
     "name": "stdout",
     "output_type": "stream",
     "text": [
      "CPU times: user 0 ns, sys: 0 ns, total: 0 ns\n",
      "Wall time: 358 µs\n"
     ]
    }
   ],
   "source": [
    "%%time\n",
    "tokens = all_df.tokens.values"
   ]
  },
  {
   "cell_type": "markdown",
   "metadata": {},
   "source": [
    "## Load Pretrained Embedding"
   ]
  },
  {
   "cell_type": "code",
   "execution_count": 9,
   "metadata": {},
   "outputs": [
    {
     "name": "stdout",
     "output_type": "stream",
     "text": [
      "CPU times: user 1.62 s, sys: 1.51 s, total: 3.13 s\n",
      "Wall time: 1min 31s\n"
     ]
    }
   ],
   "source": [
    "%%time\n",
    "pretrained_vectors = QE.load_pretrained_vectors(\n",
    "    config['embedding']['src'], token2id, test=config['n_rows'])\n",
    "glove = pretrained_vectors['glove']"
   ]
  },
  {
   "cell_type": "code",
   "execution_count": 10,
   "metadata": {},
   "outputs": [
    {
     "name": "stdout",
     "output_type": "stream",
     "text": [
      "CPU times: user 5.75 s, sys: 1.26 s, total: 7.01 s\n",
      "Wall time: 4.29 s\n"
     ]
    }
   ],
   "source": [
    "%%time\n",
    "initial_vectors, unk_freqs = [], []\n",
    "for name, _pretrained_vectors in pretrained_vectors.items():\n",
    "    vec, known_freq, unk_freq = qiqc.embeddings.build_word_vectors(\n",
    "        word_freq, _pretrained_vectors, config['vocab']['min_count'])\n",
    "    initial_vectors.append(vec)\n",
    "    unk_freqs.append(unk_freq)\n",
    "initial_vectors = np.array(initial_vectors).mean(axis=0)"
   ]
  },
  {
   "cell_type": "markdown",
   "metadata": {},
   "source": [
    "## Word2Vec"
   ]
  },
  {
   "cell_type": "code",
   "execution_count": 11,
   "metadata": {},
   "outputs": [],
   "source": [
    "w2v = Word2Vec(size=300, min_count=1)\n",
    "w2v.build_vocab_from_freq(word_freq)\n",
    "idxmap = np.array([token2id[w] for w in w2v.wv.index2word])"
   ]
  },
  {
   "cell_type": "code",
   "execution_count": 72,
   "metadata": {},
   "outputs": [
    {
     "name": "stdout",
     "output_type": "stream",
     "text": [
      "CPU times: user 4min 58s, sys: 4.41 s, total: 5min 2s\n",
      "Wall time: 1min 44s\n"
     ]
    }
   ],
   "source": [
    "%%time\n",
    "# Fine-tuning\n",
    "w2v_ft = deepcopy(w2v)\n",
    "w2v_ft.wv.vectors[:] = initial_vectors[idxmap]\n",
    "w2v_ft.trainables.syn1neg[:] = initial_vectors[idxmap]\n",
    "w2v_ft.train(tokens, total_examples=len(tokens), epochs=5)"
   ]
  },
  {
   "cell_type": "code",
   "execution_count": 75,
   "metadata": {},
   "outputs": [
    {
     "data": {
      "text/plain": [
       "[('h2o', 0.6760711669921875),\n",
       " ('nh3', 0.6650677919387817),\n",
       " ('h3', 0.6128498911857605),\n",
       " ('supercsupercompress', 0.610657811164856),\n",
       " ('so4', 0.6090301275253296),\n",
       " ('n2', 0.6033170223236084),\n",
       " ('astatide', 0.5922127366065979),\n",
       " ('o2', 0.5795282125473022),\n",
       " ('h2o2', 0.5735531449317932),\n",
       " ('hn3', 0.5703514814376831)]"
      ]
     },
     "execution_count": 75,
     "metadata": {},
     "output_type": "execute_result"
    }
   ],
   "source": [
    "w2v_ft.wv.most_similar('h2')"
   ]
  },
  {
   "cell_type": "code",
   "execution_count": 71,
   "metadata": {},
   "outputs": [
    {
     "ename": "KeyError",
     "evalue": "\"word 'polynomialfeatures' not in vocabulary\"",
     "output_type": "error",
     "traceback": [
      "\u001b[0;31m---------------------------------------------------------------------------\u001b[0m",
      "\u001b[0;31mKeyError\u001b[0m                                  Traceback (most recent call last)",
      "\u001b[0;32m<ipython-input-71-acbf518c1681>\u001b[0m in \u001b[0;36m<module>\u001b[0;34m\u001b[0m\n\u001b[0;32m----> 1\u001b[0;31m \u001b[0mglove\u001b[0m\u001b[0;34m.\u001b[0m\u001b[0mmost_similar\u001b[0m\u001b[0;34m(\u001b[0m\u001b[0;34m'polynomialfeatures'\u001b[0m\u001b[0;34m)\u001b[0m\u001b[0;34m\u001b[0m\u001b[0m\n\u001b[0m",
      "\u001b[0;32m/opt/miniconda/envs/default/lib/python3.6/site-packages/gensim/models/keyedvectors.py\u001b[0m in \u001b[0;36mmost_similar\u001b[0;34m(self, positive, negative, topn, restrict_vocab, indexer)\u001b[0m\n\u001b[1;32m    529\u001b[0m                 \u001b[0mmean\u001b[0m\u001b[0;34m.\u001b[0m\u001b[0mappend\u001b[0m\u001b[0;34m(\u001b[0m\u001b[0mweight\u001b[0m \u001b[0;34m*\u001b[0m \u001b[0mword\u001b[0m\u001b[0;34m)\u001b[0m\u001b[0;34m\u001b[0m\u001b[0m\n\u001b[1;32m    530\u001b[0m             \u001b[0;32melse\u001b[0m\u001b[0;34m:\u001b[0m\u001b[0;34m\u001b[0m\u001b[0m\n\u001b[0;32m--> 531\u001b[0;31m                 \u001b[0mmean\u001b[0m\u001b[0;34m.\u001b[0m\u001b[0mappend\u001b[0m\u001b[0;34m(\u001b[0m\u001b[0mweight\u001b[0m \u001b[0;34m*\u001b[0m \u001b[0mself\u001b[0m\u001b[0;34m.\u001b[0m\u001b[0mword_vec\u001b[0m\u001b[0;34m(\u001b[0m\u001b[0mword\u001b[0m\u001b[0;34m,\u001b[0m \u001b[0muse_norm\u001b[0m\u001b[0;34m=\u001b[0m\u001b[0;32mTrue\u001b[0m\u001b[0;34m)\u001b[0m\u001b[0;34m)\u001b[0m\u001b[0;34m\u001b[0m\u001b[0m\n\u001b[0m\u001b[1;32m    532\u001b[0m                 \u001b[0;32mif\u001b[0m \u001b[0mword\u001b[0m \u001b[0;32min\u001b[0m \u001b[0mself\u001b[0m\u001b[0;34m.\u001b[0m\u001b[0mvocab\u001b[0m\u001b[0;34m:\u001b[0m\u001b[0;34m\u001b[0m\u001b[0m\n\u001b[1;32m    533\u001b[0m                     \u001b[0mall_words\u001b[0m\u001b[0;34m.\u001b[0m\u001b[0madd\u001b[0m\u001b[0;34m(\u001b[0m\u001b[0mself\u001b[0m\u001b[0;34m.\u001b[0m\u001b[0mvocab\u001b[0m\u001b[0;34m[\u001b[0m\u001b[0mword\u001b[0m\u001b[0;34m]\u001b[0m\u001b[0;34m.\u001b[0m\u001b[0mindex\u001b[0m\u001b[0;34m)\u001b[0m\u001b[0;34m\u001b[0m\u001b[0m\n",
      "\u001b[0;32m/opt/miniconda/envs/default/lib/python3.6/site-packages/gensim/models/keyedvectors.py\u001b[0m in \u001b[0;36mword_vec\u001b[0;34m(self, word, use_norm)\u001b[0m\n\u001b[1;32m    450\u001b[0m             \u001b[0;32mreturn\u001b[0m \u001b[0mresult\u001b[0m\u001b[0;34m\u001b[0m\u001b[0m\n\u001b[1;32m    451\u001b[0m         \u001b[0;32melse\u001b[0m\u001b[0;34m:\u001b[0m\u001b[0;34m\u001b[0m\u001b[0m\n\u001b[0;32m--> 452\u001b[0;31m             \u001b[0;32mraise\u001b[0m \u001b[0mKeyError\u001b[0m\u001b[0;34m(\u001b[0m\u001b[0;34m\"word '%s' not in vocabulary\"\u001b[0m \u001b[0;34m%\u001b[0m \u001b[0mword\u001b[0m\u001b[0;34m)\u001b[0m\u001b[0;34m\u001b[0m\u001b[0m\n\u001b[0m\u001b[1;32m    453\u001b[0m \u001b[0;34m\u001b[0m\u001b[0m\n\u001b[1;32m    454\u001b[0m     \u001b[0;32mdef\u001b[0m \u001b[0mget_vector\u001b[0m\u001b[0;34m(\u001b[0m\u001b[0mself\u001b[0m\u001b[0;34m,\u001b[0m \u001b[0mword\u001b[0m\u001b[0;34m)\u001b[0m\u001b[0;34m:\u001b[0m\u001b[0;34m\u001b[0m\u001b[0m\n",
      "\u001b[0;31mKeyError\u001b[0m: \"word 'polynomialfeatures' not in vocabulary\""
     ]
    }
   ],
   "source": [
    "glove.most_similar('polynomialfeatures')"
   ]
  },
  {
   "cell_type": "markdown",
   "metadata": {},
   "source": [
    "## FastText"
   ]
  },
  {
   "cell_type": "code",
   "execution_count": null,
   "metadata": {},
   "outputs": [],
   "source": [
    "ft = FastText(size=300, min_count=1)\n",
    "ft.build_vocab_from_freq(word_freq)\n",
    "idxmap = np.array([token2id[w] for w in ft.wv.index2word])"
   ]
  },
  {
   "cell_type": "code",
   "execution_count": 1,
   "metadata": {},
   "outputs": [
    {
     "name": "stdout",
     "output_type": "stream",
     "text": [
      "1\n"
     ]
    }
   ],
   "source": [
    "print(1)"
   ]
  },
  {
   "cell_type": "markdown",
   "metadata": {},
   "source": [
    "## Doc2Vec"
   ]
  },
  {
   "cell_type": "code",
   "execution_count": 15,
   "metadata": {},
   "outputs": [
    {
     "ename": "NameError",
     "evalue": "name 'documents' is not defined",
     "output_type": "error",
     "traceback": [
      "\u001b[0;31m---------------------------------------------------------------------------\u001b[0m",
      "\u001b[0;31mNameError\u001b[0m                                 Traceback (most recent call last)",
      "\u001b[0;32m<ipython-input-15-27af3f923366>\u001b[0m in \u001b[0;36m<module>\u001b[0;34m\u001b[0m\n\u001b[1;32m      1\u001b[0m \u001b[0md2v\u001b[0m \u001b[0;34m=\u001b[0m \u001b[0mDoc2Vec\u001b[0m\u001b[0;34m(\u001b[0m\u001b[0mvector_size\u001b[0m\u001b[0;34m=\u001b[0m\u001b[0;36m300\u001b[0m\u001b[0;34m,\u001b[0m \u001b[0mmin_count\u001b[0m\u001b[0;34m=\u001b[0m\u001b[0;36m1\u001b[0m\u001b[0;34m)\u001b[0m\u001b[0;34m\u001b[0m\u001b[0m\n\u001b[0;32m----> 2\u001b[0;31m \u001b[0md2v\u001b[0m\u001b[0;34m.\u001b[0m\u001b[0mbuild_vocab\u001b[0m\u001b[0;34m(\u001b[0m\u001b[0mdocuments\u001b[0m\u001b[0;34m)\u001b[0m\u001b[0;34m\u001b[0m\u001b[0m\n\u001b[0m\u001b[1;32m      3\u001b[0m \u001b[0midxmap\u001b[0m \u001b[0;34m=\u001b[0m \u001b[0mnp\u001b[0m\u001b[0;34m.\u001b[0m\u001b[0marray\u001b[0m\u001b[0;34m(\u001b[0m\u001b[0;34m[\u001b[0m\u001b[0mtoken2id\u001b[0m\u001b[0;34m[\u001b[0m\u001b[0mw\u001b[0m\u001b[0;34m]\u001b[0m \u001b[0;32mfor\u001b[0m \u001b[0mw\u001b[0m \u001b[0;32min\u001b[0m \u001b[0md2v\u001b[0m\u001b[0;34m.\u001b[0m\u001b[0mwv\u001b[0m\u001b[0;34m.\u001b[0m\u001b[0mindex2word\u001b[0m\u001b[0;34m]\u001b[0m\u001b[0;34m)\u001b[0m\u001b[0;34m\u001b[0m\u001b[0m\n",
      "\u001b[0;31mNameError\u001b[0m: name 'documents' is not defined"
     ]
    }
   ],
   "source": [
    "d2v = Doc2Vec(vector_size=300, min_count=1)\n",
    "d2v.build_vocab(documents)\n",
    "idxmap = np.array([token2id[w] for w in d2v.wv.index2word])"
   ]
  },
  {
   "cell_type": "code",
   "execution_count": null,
   "metadata": {},
   "outputs": [],
   "source": [
    "%%time\n",
    "# Fine-tuning\n",
    "d2v_ft = deepcopy(d2v)\n",
    "d2v_ft.wv.vectors[:] = initial_vectors[idxmap]\n",
    "d2v_ft.train(documents, total_examples=len(documents), epochs=3)"
   ]
  },
  {
   "cell_type": "code",
   "execution_count": null,
   "metadata": {},
   "outputs": [],
   "source": [
    "d2v_ft.most_similar('gay')"
   ]
  },
  {
   "cell_type": "code",
   "execution_count": null,
   "metadata": {},
   "outputs": [],
   "source": [
    "d2v_ft.similar_by_vector(d2v_ft.docvecs[1])"
   ]
  },
  {
   "cell_type": "code",
   "execution_count": 21,
   "metadata": {},
   "outputs": [
    {
     "data": {
      "text/plain": [
       "2"
      ]
     },
     "execution_count": 21,
     "metadata": {},
     "output_type": "execute_result"
    }
   ],
   "source": [
    "len(d2v_ft.docvecs)"
   ]
  },
  {
   "cell_type": "code",
   "execution_count": 22,
   "metadata": {},
   "outputs": [
    {
     "data": {
      "text/plain": [
       "TaggedDocument(words=['how', 'did', 'quebec', 'nationalists', 'see', 'their', 'province', 'as', 'a', 'nation', 'in', 'the', '__####__', 's', '?'], tags=[0])"
      ]
     },
     "execution_count": 22,
     "metadata": {},
     "output_type": "execute_result"
    }
   ],
   "source": [
    "documents[0]"
   ]
  },
  {
   "cell_type": "code",
   "execution_count": 26,
   "metadata": {},
   "outputs": [
    {
     "data": {
      "text/plain": [
       "<gensim.models.doc2vec.Doc2Vec at 0x7f3ce3c8c5f8>"
      ]
     },
     "execution_count": 26,
     "metadata": {},
     "output_type": "execute_result"
    }
   ],
   "source": [
    "d2v_ft"
   ]
  },
  {
   "cell_type": "code",
   "execution_count": 1,
   "metadata": {},
   "outputs": [
    {
     "ename": "NameError",
     "evalue": "name 'w2v_ft' is not defined",
     "output_type": "error",
     "traceback": [
      "\u001b[0;31m---------------------------------------------------------------------------\u001b[0m",
      "\u001b[0;31mNameError\u001b[0m                                 Traceback (most recent call last)",
      "\u001b[0;32m<ipython-input-1-2faba19d7361>\u001b[0m in \u001b[0;36m<module>\u001b[0;34m\u001b[0m\n\u001b[0;32m----> 1\u001b[0;31m \u001b[0mw2v_ft\u001b[0m\u001b[0;34m.\u001b[0m\u001b[0mwv\u001b[0m\u001b[0;34m.\u001b[0m\u001b[0mmost_similar\u001b[0m\u001b[0;34m(\u001b[0m\u001b[0;34m'cos2x'\u001b[0m\u001b[0;34m)\u001b[0m\u001b[0;34m\u001b[0m\u001b[0m\n\u001b[0m",
      "\u001b[0;31mNameError\u001b[0m: name 'w2v_ft' is not defined"
     ]
    }
   ],
   "source": [
    "w2v_ft.wv.most_similar('cos2x')"
   ]
  },
  {
   "cell_type": "code",
   "execution_count": 35,
   "metadata": {},
   "outputs": [
    {
     "data": {
      "text/plain": [
       "[('cosx', 0.7151340246200562),\n",
       " ('sinx', 0.6846055388450623),\n",
       " ('2sin', 0.5574997067451477),\n",
       " ('arcsin', 0.5251956582069397),\n",
       " ('arctan', 0.5152665376663208),\n",
       " ('cosθ', 0.5137823820114136),\n",
       " ('2cos', 0.5127534866333008),\n",
       " ('squareroot', 0.49551451206207275),\n",
       " ('sinθ', 0.4815032482147217),\n",
       " ('dxdy', 0.4660615622997284)]"
      ]
     },
     "execution_count": 35,
     "metadata": {},
     "output_type": "execute_result"
    }
   ],
   "source": [
    "pretrained_vectors['glove'].most_similar('sin2x')"
   ]
  },
  {
   "cell_type": "code",
   "execution_count": 45,
   "metadata": {},
   "outputs": [
    {
     "data": {
      "text/plain": [
       "array([[ 2.5964957e-01, -8.4670648e-02,  2.7851504e-01, ...,\n",
       "         1.7954341e-01, -2.6291129e-01,  2.1134192e-02],\n",
       "       [ 2.1204364e-01, -1.1398113e-01,  2.8634911e-02, ...,\n",
       "         1.1775280e-01, -5.4585841e-02,  5.0044555e-02],\n",
       "       [ 1.1414719e-01,  1.9381207e-01, -8.6145736e-02, ...,\n",
       "         5.8750734e-02,  1.3702831e-01,  4.9093388e-02],\n",
       "       ...,\n",
       "       [ 9.9715188e-02, -3.9235208e-02,  3.6428217e-02, ...,\n",
       "         6.1835591e-02,  4.0068314e-03,  1.7250087e-02],\n",
       "       [ 8.6653128e-02, -3.9510202e-02,  3.7852433e-02, ...,\n",
       "         7.8722239e-02, -2.2151789e-02,  6.6478060e-05],\n",
       "       [ 4.7680137e-01, -7.3896992e-01,  1.6436531e-01, ...,\n",
       "         1.9286922e-01,  1.6693333e-01, -3.0646479e-01]], dtype=float32)"
      ]
     },
     "execution_count": 45,
     "metadata": {},
     "output_type": "execute_result"
    }
   ],
   "source": [
    "w2v_ft.trainables.syn1neg"
   ]
  },
  {
   "cell_type": "code",
   "execution_count": 46,
   "metadata": {},
   "outputs": [
    {
     "data": {
      "text/plain": [
       "array([[-2.9384291e-01, -5.7541598e-02,  1.0705809e-01, ...,\n",
       "         3.4006652e-01,  3.6447838e-01,  4.7817993e-01],\n",
       "       [-1.5696748e-01,  1.6157227e+00,  1.4872612e-01, ...,\n",
       "        -2.1004108e-01, -3.3103815e-01, -1.0355601e-01],\n",
       "       [-8.9807987e-01,  1.4232678e+00,  1.0708263e+00, ...,\n",
       "        -2.7188110e-01, -6.9967037e-01, -4.8269230e-01],\n",
       "       ...,\n",
       "       [ 3.7492380e-02, -1.7966816e-02,  2.9923102e-02, ...,\n",
       "        -3.2731801e-02, -3.8572319e-02,  1.9709233e-02],\n",
       "       [-6.0223154e-04, -6.0140961e-03,  1.2912366e-03, ...,\n",
       "        -1.0942204e-02, -5.3032041e-03, -1.4645704e-02],\n",
       "       [ 4.5158985e-01, -7.2535056e-01,  1.4970027e-01, ...,\n",
       "         2.0482789e-01,  1.8570842e-01, -2.9702303e-01]], dtype=float32)"
      ]
     },
     "execution_count": 46,
     "metadata": {},
     "output_type": "execute_result"
    }
   ],
   "source": [
    "w2v_ft.wv.vectors"
   ]
  },
  {
   "cell_type": "code",
   "execution_count": null,
   "metadata": {},
   "outputs": [],
   "source": []
  }
 ],
 "metadata": {
  "kernelspec": {
   "display_name": "Python 3",
   "language": "python",
   "name": "python3"
  },
  "language_info": {
   "codemirror_mode": {
    "name": "ipython",
    "version": 3
   },
   "file_extension": ".py",
   "mimetype": "text/x-python",
   "name": "python",
   "nbconvert_exporter": "python",
   "pygments_lexer": "ipython3",
   "version": "3.6.6"
  }
 },
 "nbformat": 4,
 "nbformat_minor": 2
}
