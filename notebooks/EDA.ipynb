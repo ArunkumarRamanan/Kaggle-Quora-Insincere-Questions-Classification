{
 "cells": [
  {
   "cell_type": "code",
   "execution_count": 1,
   "metadata": {},
   "outputs": [],
   "source": [
    "from pathlib import Path\n",
    "\n",
    "import nltk\n",
    "import pandas as pd\n",
    "import scipy as sp\n",
    "from gensim.corpora import Dictionary\n",
    "\n",
    "import qiqc.preprocessors as QP"
   ]
  },
  {
   "cell_type": "code",
   "execution_count": 2,
   "metadata": {},
   "outputs": [],
   "source": [
    "datapath = Path('../input')"
   ]
  },
  {
   "cell_type": "code",
   "execution_count": 3,
   "metadata": {},
   "outputs": [],
   "source": [
    "df_train = pd.read_csv(datapath / 'train.csv')\n",
    "df_train_pos = df_train[df_train.target == 1]\n",
    "df_train_neg = df_train[df_train.target == 0]\n",
    "df_test = pd.read_csv(datapath / 'test.csv')"
   ]
  },
  {
   "cell_type": "code",
   "execution_count": 4,
   "metadata": {},
   "outputs": [
    {
     "data": {
      "text/plain": [
       "(80810, 1225312)"
      ]
     },
     "execution_count": 4,
     "metadata": {},
     "output_type": "execute_result"
    }
   ],
   "source": [
    "len(df_train_pos), len(df_train_neg)"
   ]
  },
  {
   "cell_type": "code",
   "execution_count": 6,
   "metadata": {},
   "outputs": [],
   "source": [
    "df_train_pos.to_csv('../input/POS.tsv', sep='\\t')\n",
    "df_train_neg.to_csv('../input/NEG.tsv', sep='\\t')"
   ]
  },
  {
   "cell_type": "code",
   "execution_count": 7,
   "metadata": {},
   "outputs": [],
   "source": [
    "pipeline = QP.PreprocessPipeline(\n",
    "    QP.SentenceNormalizationPipeline(QP.TypoNormalizer()),\n",
    "    nltk.word_tokenize,\n",
    ")"
   ]
  },
  {
   "cell_type": "code",
   "execution_count": 8,
   "metadata": {},
   "outputs": [],
   "source": [
    "df_train['tokens'] = df_train.question_text.apply(pipeline)\n",
    "df_test['tokens'] = df_test.question_text.apply(pipeline)"
   ]
  },
  {
   "cell_type": "code",
   "execution_count": 9,
   "metadata": {},
   "outputs": [],
   "source": [
    "df_train['n_tokens'] = df_train.tokens.apply(len)\n",
    "df_test['n_tokens'] = df_test.tokens.apply(len)\n",
    "_df_train = df_train.sort_values('n_tokens', ascending=False)\n",
    "_df_test = df_test.sort_values('n_tokens', ascending=False)"
   ]
  },
  {
   "cell_type": "code",
   "execution_count": 31,
   "metadata": {},
   "outputs": [
    {
     "data": {
      "text/html": [
       "<div>\n",
       "<style scoped>\n",
       "    .dataframe tbody tr th:only-of-type {\n",
       "        vertical-align: middle;\n",
       "    }\n",
       "\n",
       "    .dataframe tbody tr th {\n",
       "        vertical-align: top;\n",
       "    }\n",
       "\n",
       "    .dataframe thead th {\n",
       "        text-align: right;\n",
       "    }\n",
       "</style>\n",
       "<table border=\"1\" class=\"dataframe\">\n",
       "  <thead>\n",
       "    <tr style=\"text-align: right;\">\n",
       "      <th></th>\n",
       "      <th>qid</th>\n",
       "      <th>question_text</th>\n",
       "      <th>target</th>\n",
       "      <th>tokens</th>\n",
       "      <th>n_tokens</th>\n",
       "    </tr>\n",
       "  </thead>\n",
       "  <tbody>\n",
       "    <tr>\n",
       "      <th>443216</th>\n",
       "      <td>56da6b6875d686b48fde</td>\n",
       "      <td>What is [math]\\frac{\\int_{1x^5}^{3x^{-5}} \\tan...</td>\n",
       "      <td>1</td>\n",
       "      <td>[What, is, [, math, ], \\frac, {, \\int_, {, 1x^...</td>\n",
       "      <td>412</td>\n",
       "    </tr>\n",
       "    <tr>\n",
       "      <th>163583</th>\n",
       "      <td>1ffca149bd0a19cd714c</td>\n",
       "      <td>What is [math]\\overbrace{\\sum_{\\vartheta=8}^{\\...</td>\n",
       "      <td>1</td>\n",
       "      <td>[What, is, [, math, ], \\overbrace, {, \\sum_, {...</td>\n",
       "      <td>361</td>\n",
       "    </tr>\n",
       "    <tr>\n",
       "      <th>341312</th>\n",
       "      <td>42dc38e62f0bdebfa6b6</td>\n",
       "      <td>What is the answer to [math]\\frac{422}{2262\\mi...</td>\n",
       "      <td>0</td>\n",
       "      <td>[What, is, the, answer, to, [, math, ], \\frac,...</td>\n",
       "      <td>182</td>\n",
       "    </tr>\n",
       "    <tr>\n",
       "      <th>522266</th>\n",
       "      <td>663c7523d48f5ee66a3e</td>\n",
       "      <td>In \"Star Trek 2013\" why did they :\\n\\n*Spoiler...</td>\n",
       "      <td>0</td>\n",
       "      <td>[In, ``, Star, Trek, 2013, '', why, did, they,...</td>\n",
       "      <td>169</td>\n",
       "    </tr>\n",
       "    <tr>\n",
       "      <th>315732</th>\n",
       "      <td>3de13bd2110379eada25</td>\n",
       "      <td>[math]\\frac{\\text{d}x}{\\text{d}t}=Ax , {\\text{...</td>\n",
       "      <td>1</td>\n",
       "      <td>[[, math, ], \\frac, {, \\text, {, d, }, x, }, {...</td>\n",
       "      <td>155</td>\n",
       "    </tr>\n",
       "  </tbody>\n",
       "</table>\n",
       "</div>"
      ],
      "text/plain": [
       "                         qid  \\\n",
       "443216  56da6b6875d686b48fde   \n",
       "163583  1ffca149bd0a19cd714c   \n",
       "341312  42dc38e62f0bdebfa6b6   \n",
       "522266  663c7523d48f5ee66a3e   \n",
       "315732  3de13bd2110379eada25   \n",
       "\n",
       "                                            question_text  target  \\\n",
       "443216  What is [math]\\frac{\\int_{1x^5}^{3x^{-5}} \\tan...       1   \n",
       "163583  What is [math]\\overbrace{\\sum_{\\vartheta=8}^{\\...       1   \n",
       "341312  What is the answer to [math]\\frac{422}{2262\\mi...       0   \n",
       "522266  In \"Star Trek 2013\" why did they :\\n\\n*Spoiler...       0   \n",
       "315732  [math]\\frac{\\text{d}x}{\\text{d}t}=Ax , {\\text{...       1   \n",
       "\n",
       "                                                   tokens  n_tokens  \n",
       "443216  [What, is, [, math, ], \\frac, {, \\int_, {, 1x^...       412  \n",
       "163583  [What, is, [, math, ], \\overbrace, {, \\sum_, {...       361  \n",
       "341312  [What, is, the, answer, to, [, math, ], \\frac,...       182  \n",
       "522266  [In, ``, Star, Trek, 2013, '', why, did, they,...       169  \n",
       "315732  [[, math, ], \\frac, {, \\text, {, d, }, x, }, {...       155  "
      ]
     },
     "execution_count": 31,
     "metadata": {},
     "output_type": "execute_result"
    }
   ],
   "source": [
    "_df_train.head()"
   ]
  },
  {
   "cell_type": "code",
   "execution_count": 33,
   "metadata": {},
   "outputs": [
    {
     "data": {
      "text/html": [
       "<div>\n",
       "<style scoped>\n",
       "    .dataframe tbody tr th:only-of-type {\n",
       "        vertical-align: middle;\n",
       "    }\n",
       "\n",
       "    .dataframe tbody tr th {\n",
       "        vertical-align: top;\n",
       "    }\n",
       "\n",
       "    .dataframe thead th {\n",
       "        text-align: right;\n",
       "    }\n",
       "</style>\n",
       "<table border=\"1\" class=\"dataframe\">\n",
       "  <thead>\n",
       "    <tr style=\"text-align: right;\">\n",
       "      <th></th>\n",
       "      <th>qid</th>\n",
       "      <th>question_text</th>\n",
       "      <th>tokens</th>\n",
       "      <th>n_tokens</th>\n",
       "    </tr>\n",
       "  </thead>\n",
       "  <tbody>\n",
       "    <tr>\n",
       "      <th>8785</th>\n",
       "      <td>287c443e0fdf6095b44f</td>\n",
       "      <td>What is [math]\\frac{\\frac{\\vec{3x^{-1}-3x^{-4}...</td>\n",
       "      <td>[What, is, [, math, ], \\frac, {, \\frac, {, \\ve...</td>\n",
       "      <td>241</td>\n",
       "    </tr>\n",
       "    <tr>\n",
       "      <th>3348</th>\n",
       "      <td>0f608e4b6a25ec3d650f</td>\n",
       "      <td>Which car finishes the race first (4 loops aro...</td>\n",
       "      <td>[Which, car, finishes, the, race, first, (, 4,...</td>\n",
       "      <td>120</td>\n",
       "    </tr>\n",
       "    <tr>\n",
       "      <th>41048</th>\n",
       "      <td>b98d22da141da9b7354a</td>\n",
       "      <td>How can we prove that [math]g(4)=\\pi, g(3)=\\fr...</td>\n",
       "      <td>[How, can, we, prove, that, [, math, ], g, (, ...</td>\n",
       "      <td>97</td>\n",
       "    </tr>\n",
       "    <tr>\n",
       "      <th>17082</th>\n",
       "      <td>4d40175b274589a5f213</td>\n",
       "      <td>What is the answer: If [math]f''(x)=xf(x)[/mat...</td>\n",
       "      <td>[What, is, the, answer, :, If, [, math, ], f, ...</td>\n",
       "      <td>93</td>\n",
       "    </tr>\n",
       "    <tr>\n",
       "      <th>6864</th>\n",
       "      <td>1f787730831b5ef01520</td>\n",
       "      <td>Should I be concerned if my mum always perves ...</td>\n",
       "      <td>[Should, I, be, concerned, if, my, mum, always...</td>\n",
       "      <td>88</td>\n",
       "    </tr>\n",
       "  </tbody>\n",
       "</table>\n",
       "</div>"
      ],
      "text/plain": [
       "                        qid  \\\n",
       "8785   287c443e0fdf6095b44f   \n",
       "3348   0f608e4b6a25ec3d650f   \n",
       "41048  b98d22da141da9b7354a   \n",
       "17082  4d40175b274589a5f213   \n",
       "6864   1f787730831b5ef01520   \n",
       "\n",
       "                                           question_text  \\\n",
       "8785   What is [math]\\frac{\\frac{\\vec{3x^{-1}-3x^{-4}...   \n",
       "3348   Which car finishes the race first (4 loops aro...   \n",
       "41048  How can we prove that [math]g(4)=\\pi, g(3)=\\fr...   \n",
       "17082  What is the answer: If [math]f''(x)=xf(x)[/mat...   \n",
       "6864   Should I be concerned if my mum always perves ...   \n",
       "\n",
       "                                                  tokens  n_tokens  \n",
       "8785   [What, is, [, math, ], \\frac, {, \\frac, {, \\ve...       241  \n",
       "3348   [Which, car, finishes, the, race, first, (, 4,...       120  \n",
       "41048  [How, can, we, prove, that, [, math, ], g, (, ...        97  \n",
       "17082  [What, is, the, answer, :, If, [, math, ], f, ...        93  \n",
       "6864   [Should, I, be, concerned, if, my, mum, always...        88  "
      ]
     },
     "execution_count": 33,
     "metadata": {},
     "output_type": "execute_result"
    }
   ],
   "source": [
    "_df_test.head()"
   ]
  },
  {
   "cell_type": "code",
   "execution_count": 35,
   "metadata": {},
   "outputs": [],
   "source": [
    "dic = Dictionary()\n",
    "dic."
   ]
  },
  {
   "cell_type": "code",
   "execution_count": 28,
   "metadata": {},
   "outputs": [
    {
     "name": "stdout",
     "output_type": "stream",
     "text": [
      "CPU times: user 1.42 s, sys: 4 ms, total: 1.43 s\n",
      "Wall time: 1.43 s\n"
     ]
    }
   ],
   "source": [
    "%%time\n",
    "what = _df_train.tokens.apply(lambda x: 'What' in x)"
   ]
  },
  {
   "cell_type": "code",
   "execution_count": 29,
   "metadata": {},
   "outputs": [
    {
     "name": "stdout",
     "output_type": "stream",
     "text": [
      "CPU times: user 568 ms, sys: 4 ms, total: 572 ms\n",
      "Wall time: 571 ms\n"
     ]
    },
    {
     "data": {
      "text/plain": [
       "443216      True\n",
       "163583      True\n",
       "341312      True\n",
       "522266      True\n",
       "315732     False\n",
       "327381     False\n",
       "632219      True\n",
       "464397     False\n",
       "1215721    False\n",
       "421333     False\n",
       "248234     False\n",
       "841016     False\n",
       "38634      False\n",
       "1064573    False\n",
       "847197     False\n",
       "385882     False\n",
       "1201267    False\n",
       "528304     False\n",
       "783773      True\n",
       "1046606    False\n",
       "78502      False\n",
       "1216584    False\n",
       "162693     False\n",
       "293077     False\n",
       "841025     False\n",
       "255364     False\n",
       "658574      True\n",
       "1245026    False\n",
       "280279     False\n",
       "590611     False\n",
       "           ...  \n",
       "1000142     True\n",
       "673056     False\n",
       "885494     False\n",
       "954325     False\n",
       "1242675    False\n",
       "1271923    False\n",
       "1128727    False\n",
       "379364     False\n",
       "1200601    False\n",
       "443489     False\n",
       "545466     False\n",
       "402155     False\n",
       "367936     False\n",
       "167457     False\n",
       "644979     False\n",
       "365554     False\n",
       "155026     False\n",
       "480439     False\n",
       "925520     False\n",
       "1146692    False\n",
       "61968      False\n",
       "398964     False\n",
       "1180637    False\n",
       "369692     False\n",
       "762354     False\n",
       "420816     False\n",
       "78445      False\n",
       "995257     False\n",
       "299304     False\n",
       "792939     False\n",
       "Name: tokens, Length: 1306122, dtype: bool"
      ]
     },
     "execution_count": 29,
     "metadata": {},
     "output_type": "execute_result"
    }
   ],
   "source": [
    "%%time\n",
    "bows.apply(lambda x: 'What' in x)"
   ]
  },
  {
   "cell_type": "code",
   "execution_count": 30,
   "metadata": {},
   "outputs": [
    {
     "data": {
      "text/plain": [
       "(24160.25339202984, 0.0, 1, array([[822837.41981836,  54266.58018164],\n",
       "        [402474.58018164,  26543.41981836]]))"
      ]
     },
     "execution_count": 30,
     "metadata": {},
     "output_type": "execute_result"
    }
   ],
   "source": [
    "sp.stats.chi2_contingency(pd.crosstab(what, _df_train.target))"
   ]
  },
  {
   "cell_type": "code",
   "execution_count": null,
   "metadata": {},
   "outputs": [],
   "source": []
  }
 ],
 "metadata": {
  "kernelspec": {
   "display_name": "Python 3",
   "language": "python",
   "name": "python3"
  },
  "language_info": {
   "codemirror_mode": {
    "name": "ipython",
    "version": 3
   },
   "file_extension": ".py",
   "mimetype": "text/x-python",
   "name": "python",
   "nbconvert_exporter": "python",
   "pygments_lexer": "ipython3",
   "version": "3.6.6"
  }
 },
 "nbformat": 4,
 "nbformat_minor": 2
}
